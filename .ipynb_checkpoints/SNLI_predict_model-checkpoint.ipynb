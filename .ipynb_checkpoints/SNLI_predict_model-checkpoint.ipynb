{
 "cells": [
  {
   "cell_type": "markdown",
   "metadata": {},
   "source": [
    "# Natural Language Inference Problem with [SNLI](https://nlp.stanford.edu/projects/snli/) Corpus"
   ]
  },
  {
   "cell_type": "markdown",
   "metadata": {},
   "source": [
    "A link to the data set and embedding can be found [here](https://drive.google.com/drive/folders/1UQ7RXktpX4XPUjCtJGQcGvb1kaHwSCty).\n",
    "In this project our main task is to implement a neural network that solves the Natural Language Inference problem on a subset of Stanford Natural Language Inference (SNLI). The task is to classify a sentence pair (premise, hypothesis) into one of the 3 categories:\n",
    " - \"entailment\" - from the first sentence is the second sentence\n",
    " - \"contradiction\" - the second sentence contradicts the first\n",
    " - \"neutral\" - the sentences are independent.\n",
    "\n",
    "We also will solve some smaller tasks while we will preparing data and creating model.\n"
   ]
  },
  {
   "cell_type": "markdown",
   "metadata": {},
   "source": [
    "I suggest to run this notebook on Google Colaboratory, performance of their services is better than performance of avarage laptop."
   ]
  },
  {
   "cell_type": "markdown",
   "metadata": {},
   "source": [
    "I also recommended to use Google Drive to keep dataset \"closer\" to notebook, and for this when you run the notebook on Colaboratory you need to connect and give access to your Google Drive:"
   ]
  },
  {
   "cell_type": "code",
   "execution_count": 1,
   "metadata": {
    "colab": {
     "base_uri": "https://localhost:8080/",
     "height": 34
    },
    "colab_type": "code",
    "id": "D1iZTZPIZHrC",
    "outputId": "7f66948a-32ae-4d3d-eef5-0dfeae2c1c4f"
   },
   "outputs": [
    {
     "name": "stdout",
     "output_type": "stream",
     "text": [
      "Mounted at /content/gdrive\n"
     ]
    }
   ],
   "source": [
    "\n",
    "from google.colab import drive\n",
    "drive.mount('/content/gdrive', force_remount=True)"
   ]
  },
  {
   "cell_type": "markdown",
   "metadata": {},
   "source": [
    "Add to Colaboratory `hyperparameter.py` file so that it will be available for import:"
   ]
  },
  {
   "cell_type": "code",
   "execution_count": 2,
   "metadata": {
    "colab": {
     "base_uri": "https://localhost:8080/",
     "height": 600,
     "resources": {
      "http://localhost:8080/nbextensions/google.colab/files.js": {
       "data": "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",
       "headers": [
        [
         "content-type",
         "application/javascript"
        ]
       ],
       "ok": true,
       "status": 200,
       "status_text": ""
      }
     }
    },
    "colab_type": "code",
    "id": "A3D1T7NNb87k",
    "outputId": "1cc46bee-86de-42f2-b525-1e72184a889b"
   },
   "outputs": [
    {
     "data": {
      "text/html": [
       "\n",
       "     <input type=\"file\" id=\"files-8f328c4b-1b7f-4749-9786-6a2aceb6c969\" name=\"files[]\" multiple disabled />\n",
       "     <output id=\"result-8f328c4b-1b7f-4749-9786-6a2aceb6c969\">\n",
       "      Upload widget is only available when the cell has been executed in the\n",
       "      current browser session. Please rerun this cell to enable.\n",
       "      </output>\n",
       "      <script src=\"/nbextensions/google.colab/files.js\"></script> "
      ],
      "text/plain": [
       "<IPython.core.display.HTML object>"
      ]
     },
     "metadata": {
      "tags": []
     },
     "output_type": "display_data"
    },
    {
     "ename": "KeyboardInterrupt",
     "evalue": "ignored",
     "output_type": "error",
     "traceback": [
      "\u001b[0;31m---------------------------------------------------------------------------\u001b[0m",
      "\u001b[0;31mKeyboardInterrupt\u001b[0m                         Traceback (most recent call last)",
      "\u001b[0;32m<ipython-input-2-5c2e8a8d365b>\u001b[0m in \u001b[0;36m<module>\u001b[0;34m()\u001b[0m\n\u001b[1;32m      1\u001b[0m \u001b[0;32mfrom\u001b[0m \u001b[0mgoogle\u001b[0m\u001b[0;34m.\u001b[0m\u001b[0mcolab\u001b[0m \u001b[0;32mimport\u001b[0m \u001b[0mfiles\u001b[0m\u001b[0;34m\u001b[0m\u001b[0;34m\u001b[0m\u001b[0m\n\u001b[0;32m----> 2\u001b[0;31m \u001b[0mfiles\u001b[0m\u001b[0;34m.\u001b[0m\u001b[0mupload\u001b[0m\u001b[0;34m(\u001b[0m\u001b[0;34m)\u001b[0m\u001b[0;34m\u001b[0m\u001b[0;34m\u001b[0m\u001b[0m\n\u001b[0m",
      "\u001b[0;32m/usr/local/lib/python3.6/dist-packages/google/colab/files.py\u001b[0m in \u001b[0;36mupload\u001b[0;34m()\u001b[0m\n\u001b[1;32m     62\u001b[0m   result = _output.eval_js(\n\u001b[1;32m     63\u001b[0m       'google.colab._files._uploadFiles(\"{input_id}\", \"{output_id}\")'.format(\n\u001b[0;32m---> 64\u001b[0;31m           input_id=input_id, output_id=output_id))\n\u001b[0m\u001b[1;32m     65\u001b[0m   \u001b[0mfiles\u001b[0m \u001b[0;34m=\u001b[0m \u001b[0m_collections\u001b[0m\u001b[0;34m.\u001b[0m\u001b[0mdefaultdict\u001b[0m\u001b[0;34m(\u001b[0m\u001b[0m_six\u001b[0m\u001b[0;34m.\u001b[0m\u001b[0mbinary_type\u001b[0m\u001b[0;34m)\u001b[0m\u001b[0;34m\u001b[0m\u001b[0;34m\u001b[0m\u001b[0m\n\u001b[1;32m     66\u001b[0m   \u001b[0;31m# Mapping from original filename to filename as saved locally.\u001b[0m\u001b[0;34m\u001b[0m\u001b[0;34m\u001b[0m\u001b[0;34m\u001b[0m\u001b[0m\n",
      "\u001b[0;32m/usr/local/lib/python3.6/dist-packages/google/colab/output/_js.py\u001b[0m in \u001b[0;36meval_js\u001b[0;34m(script, ignore_result)\u001b[0m\n\u001b[1;32m     37\u001b[0m   \u001b[0;32mif\u001b[0m \u001b[0mignore_result\u001b[0m\u001b[0;34m:\u001b[0m\u001b[0;34m\u001b[0m\u001b[0;34m\u001b[0m\u001b[0m\n\u001b[1;32m     38\u001b[0m     \u001b[0;32mreturn\u001b[0m\u001b[0;34m\u001b[0m\u001b[0;34m\u001b[0m\u001b[0m\n\u001b[0;32m---> 39\u001b[0;31m   \u001b[0;32mreturn\u001b[0m \u001b[0m_message\u001b[0m\u001b[0;34m.\u001b[0m\u001b[0mread_reply_from_input\u001b[0m\u001b[0;34m(\u001b[0m\u001b[0mrequest_id\u001b[0m\u001b[0;34m)\u001b[0m\u001b[0;34m\u001b[0m\u001b[0;34m\u001b[0m\u001b[0m\n\u001b[0m\u001b[1;32m     40\u001b[0m \u001b[0;34m\u001b[0m\u001b[0m\n\u001b[1;32m     41\u001b[0m \u001b[0;34m\u001b[0m\u001b[0m\n",
      "\u001b[0;32m/usr/local/lib/python3.6/dist-packages/google/colab/_message.py\u001b[0m in \u001b[0;36mread_reply_from_input\u001b[0;34m(message_id, timeout_sec)\u001b[0m\n\u001b[1;32m     99\u001b[0m     \u001b[0mreply\u001b[0m \u001b[0;34m=\u001b[0m \u001b[0m_read_next_input_message\u001b[0m\u001b[0;34m(\u001b[0m\u001b[0;34m)\u001b[0m\u001b[0;34m\u001b[0m\u001b[0;34m\u001b[0m\u001b[0m\n\u001b[1;32m    100\u001b[0m     \u001b[0;32mif\u001b[0m \u001b[0mreply\u001b[0m \u001b[0;34m==\u001b[0m \u001b[0m_NOT_READY\u001b[0m \u001b[0;32mor\u001b[0m \u001b[0;32mnot\u001b[0m \u001b[0misinstance\u001b[0m\u001b[0;34m(\u001b[0m\u001b[0mreply\u001b[0m\u001b[0;34m,\u001b[0m \u001b[0mdict\u001b[0m\u001b[0;34m)\u001b[0m\u001b[0;34m:\u001b[0m\u001b[0;34m\u001b[0m\u001b[0;34m\u001b[0m\u001b[0m\n\u001b[0;32m--> 101\u001b[0;31m       \u001b[0mtime\u001b[0m\u001b[0;34m.\u001b[0m\u001b[0msleep\u001b[0m\u001b[0;34m(\u001b[0m\u001b[0;36m0.025\u001b[0m\u001b[0;34m)\u001b[0m\u001b[0;34m\u001b[0m\u001b[0;34m\u001b[0m\u001b[0m\n\u001b[0m\u001b[1;32m    102\u001b[0m       \u001b[0;32mcontinue\u001b[0m\u001b[0;34m\u001b[0m\u001b[0;34m\u001b[0m\u001b[0m\n\u001b[1;32m    103\u001b[0m     if (reply.get('type') == 'colab_reply' and\n",
      "\u001b[0;31mKeyboardInterrupt\u001b[0m: "
     ]
    }
   ],
   "source": [
    "from google.colab import files\n",
    "files.upload()"
   ]
  },
  {
   "cell_type": "markdown",
   "metadata": {},
   "source": [
    "To test if dadaset is uploaded simply check first line:"
   ]
  },
  {
   "cell_type": "code",
   "execution_count": 0,
   "metadata": {
    "colab": {},
    "colab_type": "code",
    "id": "IQocnNQKZ1TL"
   },
   "outputs": [],
   "source": [
    "\n",
    "# with open('./gdrive/My Drive/project/train.txt', \"r\") as f:\n",
    "#         line = f.readline()\n",
    "#         print(line)"
   ]
  },
  {
   "cell_type": "code",
   "execution_count": 4,
   "metadata": {
    "colab": {
     "base_uri": "https://localhost:8080/",
     "height": 82
    },
    "colab_type": "code",
    "id": "vWw4TrhrYBg7",
    "outputId": "c45356e2-e11f-4866-b7f1-9afe29199f63"
   },
   "outputs": [
    {
     "name": "stdout",
     "output_type": "stream",
     "text": [
      "\u001b[31mtorch-1.0.0-cp36-cp36m-cp36m-linux_x86_64.whl is not a supported wheel on this platform.\u001b[0m\n"
     ]
    }
   ],
   "source": [
    "import numpy as np\n",
    "from os.path import exists\n",
    "from wheel.pep425tags import get_abbr_impl, get_impl_ver, get_abi_tag\n",
    "platform = '{}{}-{}'.format(get_abbr_impl(), get_impl_ver(), get_abi_tag())\n",
    "cuda_output = !ldconfig -p|grep cudart.so|sed -e 's/.*\\.\\([0-9]*\\)\\.\\([0-9]*\\)$/cu\\1\\2/'\n",
    "accelerator = cuda_output[0] if exists('/dev/nvidia0') else 'cpu'\n",
    "\n",
    "\n",
    "# !pip install -q http://download.pytorch.org/whl/{accelerator}/torch-0.4.1-{platform}-linux_x86_64.whl torchvision\n",
    "!pip install -q https://download.pytorch.org/whl/{accelerator}/torch-1.0.0-{platform}-cp36m-linux_x86_64.whl\n",
    "import torch\n",
    "import torch.nn as nn\n",
    "import torch.nn.functional as F\n",
    "from torch.utils.data import Dataset\n",
    "from collections import Counter\n",
    "import pickle as pkl\n",
    "import random\n",
    "import pdb\n",
    "random.seed(134)\n",
    "\n",
    "from hyperparameter import Hyperparameter as hp\n",
    "\n",
    "\n",
    "import re\n",
    "import os "
   ]
  },
  {
   "cell_type": "markdown",
   "metadata": {},
   "source": [
    "If you have GPU on board we use it as far as calculations will be faster"
   ]
  },
  {
   "cell_type": "code",
   "execution_count": 5,
   "metadata": {
    "colab": {
     "base_uri": "https://localhost:8080/",
     "height": 34
    },
    "colab_type": "code",
    "id": "1c3wjbd-YBhR",
    "outputId": "e89edfe8-de1f-4cc3-de0d-1f07fa93379a"
   },
   "outputs": [
    {
     "name": "stdout",
     "output_type": "stream",
     "text": [
      "device: cuda:0\n"
     ]
    }
   ],
   "source": [
    "device = torch.device('cuda:0' if torch.cuda.is_available() else 'cpu')\n",
    "print(f'device: {device}')\n",
    "\n",
    "BATCH_SIZE = 32\n",
    "max_vocab_size = 20000"
   ]
  },
  {
   "cell_type": "code",
   "execution_count": 0,
   "metadata": {
    "colab": {},
    "colab_type": "code",
    "id": "6MVOPV9DYBhq"
   },
   "outputs": [],
   "source": [
    "def build_all_tokens(inp1, inp2):\n",
    "    all_tokens = []\n",
    "    for sent in inp1:\n",
    "        for x in sent:\n",
    "            all_tokens.append(x)   \n",
    "    for sent in inp2:\n",
    "        for x in sent:\n",
    "            all_tokens.append(x)    \n",
    "    \n",
    "    return all_tokens"
   ]
  },
  {
   "cell_type": "markdown",
   "metadata": {},
   "source": [
    "While reading data from the SNLI sets, select only those sentences in which most annotators have chosen one class (i.e. `gold_label` != \"-\"). Write out 10 first rekected sentences"
   ]
  },
  {
   "cell_type": "code",
   "execution_count": 0,
   "metadata": {
    "colab": {},
    "colab_type": "code",
    "id": "Lg-RLBKlYBhx"
   },
   "outputs": [],
   "source": [
    "def read_data(filename, count = 9999999, do_count = True):\n",
    "    rejected_amount_to_display = 10\n",
    "    rejected_count = 0\n",
    "    x1 = []\n",
    "    x2 = []\n",
    "    y = []\n",
    "    x1_w = []\n",
    "    x2_w = []\n",
    "    raw_data = []\n",
    "    filename =hp.prepath_data + filename\n",
    "    len_list = []\n",
    "    with open(filename, \"r\") as f:\n",
    "\n",
    "        line_num = 0\n",
    "        line = f.readline()\n",
    "        line = f.readline()\n",
    "        while line != None and line != \"\":\n",
    "            if do_count:\n",
    "              if line_num>count:\n",
    "                break\n",
    "            line_num += 1\n",
    "            line = line.lower()\n",
    "            arr = line.split('\\t')\n",
    "            \n",
    "            if arr[0] != '-':\n",
    "                x1_w.append(arr[5].split())\n",
    "                len_list.append(len(arr[5].split()))\n",
    "                x2_w.append(arr[6].split())\n",
    "                len_list.append(len(arr[6].split()))\n",
    "                y.append(hp.dummy2int[arr[0]])\n",
    "            else:\n",
    "                if rejected_count < rejected_amount_to_display:\n",
    "                    rejected_count+=1\n",
    "                    print(f'REJECTED {rejected_count}: {arr[5]},{arr[6]}')\n",
    "            \n",
    "            line = f.readline()\n",
    "\n",
    "        MAX_SENTENCE_LENGTH = max(len_list)\n",
    "        a = sorted(len_list, reverse = True)\n",
    "        \n",
    "        all_tokens = build_all_tokens(x1_w, x2_w)\n",
    "        print(f'read {line_num} lines')\n",
    "    return x1_w, x2_w, y, MAX_SENTENCE_LENGTH, all_tokens\n"
   ]
  },
  {
   "cell_type": "code",
   "execution_count": 0,
   "metadata": {
    "colab": {},
    "colab_type": "code",
    "id": "vB0eFRrpYBh6"
   },
   "outputs": [],
   "source": [
    "def build_vocab(all_tokens):\n",
    "    # Returns:\n",
    "    # id2token: list of tokens, where id2token[i] returns token that corresponds to token i\n",
    "    # token2id: dictionary where keys represent tokens and corresponding values represent indices\n",
    "    token_counter = Counter(all_tokens)\n",
    "    vocab, count = zip(*token_counter.most_common(max_vocab_size))\n",
    "    id2token = list(vocab)\n",
    "    token2id = dict(zip(vocab, range(4,4+len(vocab)))) #4 is because we add manualy '<pad>','<bos>', '<eos>', '<unk>'\n",
    "    id2token = ['<pad>','<bos>', '<eos>', '<unk>'] + id2token\n",
    "    token2id['<pad>'] = hp.PAD_IDX \n",
    "    token2id['<bos>'] = hp.BOS_IDX \n",
    "    token2id['<eos>'] = hp.EOS_IDX\n",
    "    token2id['<unk>'] = hp.UNK_IDX\n",
    "    return token2id, id2token\n",
    "\n",
    "def token2index_dataset(tokens_data, token2id):\n",
    "    indices_data = []\n",
    "    for tokens in tokens_data:\n",
    "        index_list = [token2id[token] if token in token2id else hp.UNK_IDX for token in tokens]\n",
    "        index_list = [hp.BOS_IDX] + index_list + [hp.EOS_IDX]\n",
    "        indices_data.append(index_list)\n",
    "    return indices_data"
   ]
  },
  {
   "cell_type": "code",
   "execution_count": 9,
   "metadata": {
    "colab": {
     "base_uri": "https://localhost:8080/",
     "height": 278
    },
    "colab_type": "code",
    "id": "KkSIEwIlYBiB",
    "outputId": "d2f58cd2-8ebb-4b68-a096-696c0a10aebd"
   },
   "outputs": [
    {
     "name": "stdout",
     "output_type": "stream",
     "text": [
      "REJECTED 1: a woman wearing a pink hat is looking at a pink car with the truck open.,the woman is wearing clothes.\n",
      "REJECTED 2: a man in a white jacket standing in front of an older woman in a white jacket playing crochet.,the man was playing crochet with the two women.\n",
      "REJECTED 3: a man with red earphones is working on a red and white painted hot rod from team ace racing.,a man in earphones is fixing a broken hotrod.\n",
      "REJECTED 4: a boy and a girl are walking in a mall.,a girl and a boy walking inside\n",
      "REJECTED 5: a man with sunglasses on his head is standing by signs for the wharf and ferry terminal.,a guy and his pets are waiting by the terminal.\n",
      "REJECTED 6: people relaxing under green umbrella's with a beautiful fountain in the background.,the folk is hiding from the sun under green umbrellas.\n",
      "REJECTED 7: the girl in the pink top is riding a skateboard along a white wall.,the girl is skateboarding outside.\n",
      "REJECTED 8: a man is carving a large eagle out of wood in a public setting.,the man is an artist.\n",
      "REJECTED 9: men and women wearing white swim caps giving each other piggyback rides.,men and women joking around.\n",
      "REJECTED 10: a old man in a green shirt sits on the curb holding a camera.,an old man holds a digital camera and sits on the curb.\n",
      "read 110030 lines\n",
      "MAX_SENTENCE_LENGTH: 78\n",
      "READ UNIQUE WORDS: 34325\n"
     ]
    }
   ],
   "source": [
    "count = 3000#9999999999\n",
    "train_x1, train_x2, train_y, MAX_SENTENCE_LENGTH, all_train_tokens  = read_data('train.txt', count = count, do_count = False)\n",
    "print(f'MAX_SENTENCE_LENGTH: {MAX_SENTENCE_LENGTH}')\n",
    "unique_tokens = set(all_train_tokens)\n",
    "print(f'READ UNIQUE WORDS: {len(unique_tokens)}')"
   ]
  },
  {
   "cell_type": "markdown",
   "metadata": {},
   "source": [
    "As a word encoder, we use [GloVe](https://nlp.stanford.edu/projects/glove/) embedding trained on the Wikipedia 2014 dataset (6B tokens, 400k vocabulary, 200D) (we download these embeddings, it would take too long to teach them, use file `word-vectors.txt` from thesameremote folder where trainig data is). For the embedding matrix, select only those words that appear simultaneously in GloVe and SNLI.\n",
    "\n",
    "Treat words that appear in SNLI but are not in GloVe as `<unk>`, for which the embedding vector is randomly initialized. Similarly, create two additional vectors, `<bos>`, `<eos>`, which represent the beginning and end of a sentence (modify the set of SNLI so that each sentence starts with a `<bos>` token, ends with a `<eos>` token, and for unknown words contains a `<unk>` token). Print the number of all words and words converted to `<unk>`.\n"
   ]
  },
  {
   "cell_type": "code",
   "execution_count": 0,
   "metadata": {
    "colab": {},
    "colab_type": "code",
    "id": "YqGWby2UYBiT"
   },
   "outputs": [],
   "source": [
    "token2id, id2token = build_vocab(all_train_tokens)\n",
    "\n",
    "train_x1_indices = token2index_dataset(train_x1, token2id)\n",
    "train_x2_indices = token2index_dataset(train_x2, token2id)\n",
    "\n",
    "MAX_SENTENCE_LENGTH += 2 #because we added <bos> and <eos>   \n",
    "with open(hp.prepath_data + 'word_vectors.txt') as f:\n",
    "    loaded_embeddings_ft = np.zeros((len(id2token), hp.glove_emb_dim))\n",
    "    words_ft = {}\n",
    "    idx2words_ft = {}\n",
    "    ordered_words_ft = []\n",
    "    for i, line in enumerate(f):\n",
    "        if i >= hp.words_to_load: \n",
    "            break\n",
    "        s = line.split()\n",
    "        #if the word in vocabulary is in fasttext, we load the embedding for that word.\n",
    "        if s[0] in token2id:\n",
    "            idx = token2id[s[0]]\n",
    "            loaded_embeddings_ft[idx] = np.asarray(s[1:])\n",
    "unk_tokens_idx = []\n",
    "loaded_embeddings_ft[0] = np.random.rand(hp.glove_emb_dim) #<pad>\n",
    "loaded_embeddings_ft[1] = np.random.rand(hp.glove_emb_dim) #<bos>\n",
    "loaded_embeddings_ft[2] = np.random.rand(hp.glove_emb_dim) #<eos>\n",
    "loaded_embeddings_ft[3] = np.random.rand(hp.glove_emb_dim) #<unk>\n",
    "for i in range(3, len(id2token)):\n",
    "    if loaded_embeddings_ft[i][0] == 0:\n",
    "        #if the word in vocabulary is not in fasttext(include unk, bos, eos), we initialize a random vector.\n",
    "        loaded_embeddings_ft[i] = np.random.rand(hp.glove_emb_dim)\n",
    "        unk_tokens_idx.append(i)"
   ]
  },
  {
   "cell_type": "code",
   "execution_count": 11,
   "metadata": {
    "colab": {
     "base_uri": "https://localhost:8080/",
     "height": 51
    },
    "colab_type": "code",
    "id": "4qDkTCOKYBib",
    "outputId": "503ba68d-5690-4199-d786-2006e4a01f88"
   },
   "outputs": [
    {
     "name": "stdout",
     "output_type": "stream",
     "text": [
      "READ WORDS: 2225693\n",
      "READ <unk> WORDS: 8041\n"
     ]
    }
   ],
   "source": [
    "print(f'READ WORDS: {len(all_train_tokens)}')\n",
    "unk_words_read = 0\n",
    "#replace unknown words with <unk>\n",
    "for i,_ in enumerate(train_x1_indices):\n",
    "    for j,_ in enumerate(train_x1_indices[i]):\n",
    "        if train_x1_indices[i][j] in unk_tokens_idx:\n",
    "            train_x1_indices[i][j] = hp.UNK_IDX\n",
    "\n",
    "print(f'READ <unk> WORDS: {len(unk_tokens_idx)}')"
   ]
  },
  {
   "cell_type": "code",
   "execution_count": 12,
   "metadata": {
    "colab": {
     "base_uri": "https://localhost:8080/",
     "height": 261
    },
    "colab_type": "code",
    "id": "FoDWYS_uYBii",
    "outputId": "ef2a3dc1-46e0-4e42-8119-177626318e59"
   },
   "outputs": [
    {
     "name": "stdout",
     "output_type": "stream",
     "text": [
      "fatal: destination path 'text' already exists and is not an empty directory.\n",
      "REJECTED 1: the middle eastern woman wearing the pink headscarf is walking beside a woman in a purple headscarf.,two women are walking together.\n",
      "REJECTED 2: a white-haired man with a mustache and glasses in a business suit stands outside at a podium marked with the seal of the us house of representatives, surrounded by many people, with a columned building behind him.,there are people outside.\n",
      "REJECTED 3: a group of people sit on benches at a park outside a building.,a women sits on a bench by herself.\n",
      "REJECTED 4: two male police officers on patrol, wearing the normal gear and bright green reflective shirts.,the two male police officers are looking for trouble.\n",
      "REJECTED 5: a restaurant front line, with a warmer in the front and a person in a red coca cola shirt cooking.,the person in the coca cola shirt is opening the refrigerator.\n",
      "REJECTED 6: several children are standing with plates full of food under a shelter, watching a man in a purple shirt serving good.,the children are about to get food.\n",
      "REJECTED 7: several children are standing with plates full of food under a shelter, watching a man in a purple shirt serving good.,the children are inside.\n",
      "REJECTED 8: a woman holds her child out of a red window, next to a color tv sign.,the woman is extending her arms.\n",
      "REJECTED 9: a woman holds her child out of a red window, next to a color tv sign.,the child is a daughter.\n",
      "REJECTED 10: a little girl sitting in a seat.,she is sitting nicely.\n",
      "read 10000 lines\n",
      "Data Loaded\n"
     ]
    }
   ],
   "source": [
    "!git clone https://github.com/pytorch/text.git\n",
    "from text.torchtext import data\n",
    "from text.torchtext import datasets\n",
    "\n",
    "import torch\n",
    "from torch.utils.data import Dataset\n",
    "class SNLIDataset(Dataset):\n",
    "    \"\"\"\n",
    "    Class that represents a train/validation/test dataset that's readable for PyTorch\n",
    "    Note that this class inherits torch.utils.data.Dataset\n",
    "    \"\"\"\n",
    "    \n",
    "    def __init__(self, data_list1, data_list2,target_list):\n",
    "        \"\"\"\n",
    "        @param data_list: list of SNLI tokens \n",
    "        @param target_list: list of SNLI targets \n",
    "\n",
    "        \"\"\"\n",
    "        self.data_list1 = data_list1\n",
    "        self.data_list2 = data_list2\n",
    "        self.target_list = target_list\n",
    "        assert (len(self.data_list1) == len(self.target_list))\n",
    "\n",
    "    def __len__(self):\n",
    "        return len(self.data_list1)\n",
    "        \n",
    "    def __getitem__(self, key):\n",
    "        \"\"\"\n",
    "        Triggered when you call dataset[i]\n",
    "        \"\"\"\n",
    "        \n",
    "        token_idx1 = self.data_list1[key][:MAX_SENTENCE_LENGTH]\n",
    "        token_idx2 = self.data_list2[key][:MAX_SENTENCE_LENGTH]\n",
    "        label = self.target_list[key]\n",
    "        return [token_idx1, token_idx2, len(token_idx1), len(token_idx2),label]\n",
    "def SNLI_collate_func(batch):\n",
    "    \"\"\"\n",
    "    Customized function for DataLoader that dynamically pads the batch so that all \n",
    "    data have the same length\n",
    "    \"\"\"\n",
    "    data_list1 = []\n",
    "    data_list2 = []\n",
    "    label_list = []\n",
    "    length_list1 = []\n",
    "    length_list2 = []\n",
    "    for datum in batch:\n",
    "        label_list.append(datum[4])\n",
    "        length_list1.append(datum[2])\n",
    "        length_list2.append(datum[3])\n",
    "    # padding\n",
    "    batch_max_sent_len = max(max(length_list1), max(length_list2))\n",
    "    for datum in batch:\n",
    "        padded_vec1 = np.pad(np.array(datum[0]), \n",
    "                                pad_width=((0,batch_max_sent_len-datum[2])), \n",
    "                                mode=\"constant\", constant_values=0)\n",
    "        padded_vec2 = np.pad(np.array(datum[1]), \n",
    "                                pad_width=((0,batch_max_sent_len-datum[3])), \n",
    "                                mode=\"constant\", constant_values=0)\n",
    "        data_list1.append(padded_vec1)\n",
    "        data_list2.append(padded_vec2)\n",
    "    \n",
    "    #transform labels to one hot label to fit into cross-entropy loss\n",
    "    # define example\n",
    "    \n",
    "    return [torch.from_numpy(np.array(data_list1)), torch.from_numpy(np.array(data_list2)),\n",
    "            torch.LongTensor(length_list1), torch.LongTensor(length_list2),torch.LongTensor(label_list)]\n",
    "\n",
    "#data loader\n",
    "train_dataset = SNLIDataset(train_x1_indices, train_x2_indices,train_y)\n",
    "train_loader = torch.utils.data.DataLoader(dataset=train_dataset, \n",
    "                                           batch_size=BATCH_SIZE,\n",
    "                                           collate_fn=SNLI_collate_func,\n",
    "                                           shuffle=True)\n",
    "val_x1, val_x2, val_y, _, _  = read_data('dev.txt', count = count, do_count = False)\n",
    "\n",
    "\n",
    "val_x1_indices = token2index_dataset(val_x1, token2id)\n",
    "val_x2_indices = token2index_dataset(val_x2, token2id)\n",
    "val_dataset = SNLIDataset(val_x1_indices, val_x2_indices, val_y)\n",
    "val_loader = torch.utils.data.DataLoader(dataset=val_dataset, \n",
    "                                           batch_size=BATCH_SIZE,\n",
    "                                           collate_fn=SNLI_collate_func,\n",
    "                                           shuffle=True)\n",
    "print('Data Loaded')"
   ]
  },
  {
   "cell_type": "code",
   "execution_count": 0,
   "metadata": {
    "colab": {},
    "colab_type": "code",
    "id": "WYjEPAr1YBis"
   },
   "outputs": [],
   "source": [
    "def create_emb_layer(weights_matrix, non_trainable=False):\n",
    "    weights_matrix = torch.from_numpy(weights_matrix)\n",
    "    if str(device).startswith('cuda'):\n",
    "        weights_matrix = weights_matrix.cuda()\n",
    "    num_embeddings, embedding_dim = weights_matrix.size()\n",
    "    emb_layer = nn.Embedding(num_embeddings, embedding_dim)\n",
    "    emb_layer.load_state_dict({'weight': weights_matrix})\n",
    "    if non_trainable:\n",
    "        emb_layer.weight.requires_grad = False\n",
    "\n",
    "    return emb_layer, num_embeddings, embedding_dim\n",
    "\n",
    "class LSTMClassifier(nn.Module):\n",
    "    def __init__(self, weights_matrix, hidden_size, classset_size):\n",
    "        super(LSTMClassifier, self).__init__()\n",
    "        self.embedding, num_embeddings, embedding_dim = create_emb_layer(weights_matrix, True)\n",
    "        self.hidden_size = hidden_size\n",
    "        \n",
    "        # The LSTM takes word embeddings as inputs, and outputs hidden states\n",
    "        # with dimensionality hidden_dim.\n",
    "        self.lstm1 = nn.LSTM(embedding_dim, hidden_size)\n",
    "        self.lstm2 = nn.LSTM(embedding_dim, hidden_size)\n",
    "        self.linear1 = nn.Sequential(nn.Linear(self.hidden_size*2, self.hidden_size*2), nn.ReLU())\n",
    "        self.hidden2tag = nn.Linear(hidden_size*2, classset_size)\n",
    "        \n",
    "\n",
    "    def forward(self, x1, x2, x1_len, x2_len):\n",
    "        # reset hidden state\n",
    "        batch_size, seq_len = x1.size()\n",
    "        embed1 = self.embedding(x1)\n",
    "        embed2 = self.embedding(x2)\n",
    "        self.hidden = self.init_hidden(batch_size, seq_len)\n",
    "        if str(device).startswith('cuda'):\n",
    "            self.hidden = (self.hidden[0].cuda(), self.hidden[1].cuda())\n",
    "        lstm_out1, self.hidden1 = self.lstm1(embed1, self.hidden) #batch_size * maximum sentence length * hidden_size\n",
    "        lstm_out2, self.hidden2 = self.lstm2(embed2, self.hidden)\n",
    "        lstm_out1_lasts = torch.zeros(batch_size, self.hidden_size) #batch_size * hidden_size\n",
    "        #find the <eos> word and get it's output\n",
    "        for i, out1 in enumerate(lstm_out1):\n",
    "            if len(out1) == x1_len[i]:\n",
    "                lstm_out1_lasts[i] = out1[-1, :]\n",
    "            else:\n",
    "                lstm_out1_lasts[i] = out1[x1_len[i]-1, :]\n",
    "        lstm_out2_lasts = torch.zeros(batch_size, self.hidden_size) #batch_size * hidden_size\n",
    "        for i, out2 in enumerate(lstm_out2):\n",
    "            if len(out2) == x2_len[i]:\n",
    "                lstm_out2_lasts[i] = out2[-1, :]\n",
    "            else:\n",
    "                lstm_out2_lasts[i] = out2[x2_len[i]-1, :]\n",
    "        out_pool = torch.cat((lstm_out1_lasts, lstm_out2_lasts),1)  #todo: batch size * 2 * word_embedding\n",
    "        out_pool = out_pool.to(device)\n",
    "        after_relu = self.linear1(out_pool)\n",
    "        linear_to_classes = self.hidden2tag(after_relu)\n",
    "        class_scores = F.log_softmax(linear_to_classes, dim=1)\n",
    "        return class_scores\n",
    "    \n",
    "    def init_hidden(self, batch_size, seq_len):\n",
    "        return (torch.zeros( 1, seq_len, self.hidden_size),\n",
    "               torch.zeros( 1, seq_len, self.hidden_size))"
   ]
  },
  {
   "cell_type": "code",
   "execution_count": 14,
   "metadata": {
    "colab": {
     "base_uri": "https://localhost:8080/",
     "height": 51
    },
    "colab_type": "code",
    "id": "lkxUKqFyYBi2",
    "outputId": "4cafdbe9-3df7-456e-f68e-33b3b8cbe039"
   },
   "outputs": [
    {
     "name": "stdout",
     "output_type": "stream",
     "text": [
      "switching model to cuda mode...\n",
      "Model Built, start trainning\n"
     ]
    }
   ],
   "source": [
    "\n",
    "model = LSTMClassifier(loaded_embeddings_ft, hp.glove_emb_dim, len(hp.dummy2int))\n",
    "if str(device).startswith('cuda'):\n",
    "    print('switching model to cuda mode...')\n",
    "    model.cuda()\n",
    "criterion = nn.NLLLoss()\n",
    "optimizer = torch.optim.Adam(model.parameters(), lr=0.0005)\n",
    "print('Model Built, start trainning')"
   ]
  },
  {
   "cell_type": "code",
   "execution_count": 0,
   "metadata": {
    "colab": {},
    "colab_type": "code",
    "id": "2w24VrjCYBjG"
   },
   "outputs": [],
   "source": [
    "from tqdm import tqdm\n",
    "class AverageMeter(object):\n",
    "    \"\"\"Computes and stores the average and current value\"\"\"\n",
    "    def __init__(self):\n",
    "        self.reset()\n",
    "\n",
    "    def reset(self):\n",
    "        self.val = 0\n",
    "        self.avg = 0\n",
    "        self.sum = 0\n",
    "        self.count = 0\n",
    "\n",
    "    def update(self, val, n=1):\n",
    "        self.val = val\n",
    "        self.sum += val * n\n",
    "        self.count += n\n",
    "        self.avg = self.sum / self.count\n",
    "import time\n",
    "def test_model(loader, model, criterion):\n",
    "    \"\"\"\n",
    "    Help function that tests the model's performance on a dataset\n",
    "    @param: loader - data loader for the dataset to test against\n",
    "    \"\"\"\n",
    "    correct = 0\n",
    "    total = 0\n",
    "    model.eval()\n",
    "    losses = AverageMeter()\n",
    "    for i, (x1, x2, lengths1, lengths2, labels) in enumerate(loader):\n",
    "        if i % 200 == 0:\n",
    "            print(f'epoch {epoch}, test batch {i}')\n",
    "        x1, x2, labels = x1.to(device), x2.to(device), labels.to(device)\n",
    "        # Forward pass\n",
    "        if str(device).startswith('cuda'):\n",
    "            x1, x2 = x1.cuda(), x2.cuda()\n",
    "        outputs = model(x1, x2, lengths1, lengths2)\n",
    "        outputs_softmax = F.softmax(outputs, dim=1)\n",
    "        loss = criterion(outputs, labels)\n",
    "        losses.update(loss, x1.size(0))\n",
    "        predicted = outputs_softmax.max(1, keepdim=True)[1]\n",
    "\n",
    "        total += labels.size(0)\n",
    "\n",
    "        correct += predicted.eq(labels.view_as(predicted)).sum().item()\n",
    "    return (100 * correct / total), losses.avg\n",
    "\n",
    "import matplotlib.pyplot as plt\n",
    "def train_plot(train_loss, val_loss, val_acc, fname):\n",
    "\n",
    "    if not os.path.exists('fig'):\n",
    "        os.makedirs('fig')\n",
    "    fig_dir = './fig/'\n",
    "    plt.figure()\n",
    "    plt.plot(train_loss,label='Training Loss')\n",
    "    plt.plot(val_loss,label='Validation Loss')\n",
    "    plt.xlabel('Epoch')\n",
    "    plt.ylabel('Loss')\n",
    "    plt.legend()\n",
    "    plt.savefig(fig_dir + 'loss'+ '_(' + fname + ').png')\n",
    "    plt.show()"
   ]
  },
  {
   "cell_type": "code",
   "execution_count": 16,
   "metadata": {
    "colab": {
     "base_uri": "https://localhost:8080/",
     "height": 4682
    },
    "colab_type": "code",
    "id": "b6A83fyzYBjT",
    "outputId": "0ea59a6a-3796-4786-87a4-5e2de6681f7a",
    "scrolled": false
   },
   "outputs": [
    {
     "name": "stdout",
     "output_type": "stream",
     "text": [
      "epoch 0, train batch 0\n",
      "epoch 0, train batch 200\n",
      "epoch 0, train batch 400\n",
      "validation...\n",
      "epoch 0, test batch 0\n",
      "epoch 0, test batch 200\n",
      " Epoch: [1/5], Step: [401/3434], Training loss: 1.0839, Validation Acc: 40.43893517577728\n"
     ]
    },
    {
     "name": "stderr",
     "output_type": "stream",
     "text": [
      "/usr/local/lib/python3.6/dist-packages/torch/serialization.py:250: UserWarning: Couldn't retrieve source code for container of type LSTMClassifier. It won't be checked for correctness upon loading.\n",
      "  \"type \" + obj.__name__ + \". It won't be checked \"\n"
     ]
    },
    {
     "name": "stdout",
     "output_type": "stream",
     "text": [
      "epoch 0, train batch 600\n",
      "epoch 0, train batch 800\n",
      "validation...\n",
      "epoch 0, test batch 0\n",
      "epoch 0, test batch 200\n",
      " Epoch: [1/5], Step: [801/3434], Training loss: 1.0816, Validation Acc: 40.20524283682178\n",
      "epoch 0, train batch 1000\n",
      "epoch 0, train batch 1200\n",
      "validation...\n",
      "epoch 0, test batch 0\n",
      "epoch 0, test batch 200\n",
      " Epoch: [1/5], Step: [1201/3434], Training loss: 1.0803, Validation Acc: 40.20524283682178\n",
      "epoch 0, train batch 1400\n",
      "epoch 0, train batch 1600\n",
      "validation...\n",
      "epoch 0, test batch 0\n",
      "epoch 0, test batch 200\n",
      " Epoch: [1/5], Step: [1601/3434], Training loss: 1.0799, Validation Acc: 40.77423287949604\n",
      "epoch 0, train batch 1800\n",
      "epoch 0, train batch 2000\n",
      "validation...\n",
      "epoch 0, test batch 0\n",
      "epoch 0, test batch 200\n",
      " Epoch: [1/5], Step: [2001/3434], Training loss: 1.0797, Validation Acc: 40.78439341597236\n",
      "epoch 0, train batch 2200\n",
      "epoch 0, train batch 2400\n",
      "validation...\n",
      "epoch 0, test batch 0\n",
      "epoch 0, test batch 200\n",
      " Epoch: [1/5], Step: [2401/3434], Training loss: 1.0789, Validation Acc: 40.55070107701687\n",
      "epoch 0, train batch 2600\n",
      "epoch 0, train batch 2800\n",
      "validation...\n",
      "epoch 0, test batch 0\n",
      "epoch 0, test batch 200\n",
      " Epoch: [1/5], Step: [2801/3434], Training loss: 1.0782, Validation Acc: 41.35338345864662\n",
      "epoch 0, train batch 3000\n",
      "epoch 0, train batch 3200\n",
      "validation...\n",
      "epoch 0, test batch 0\n",
      "epoch 0, test batch 200\n",
      " Epoch: [1/5], Step: [3201/3434], Training loss: 1.0779, Validation Acc: 40.510058931111566\n",
      "epoch 0, train batch 3400\n",
      "epoch 1, train batch 0\n",
      "epoch 1, train batch 200\n",
      "epoch 1, train batch 400\n",
      "validation...\n",
      "epoch 1, test batch 0\n",
      "epoch 1, test batch 200\n",
      " Epoch: [2/5], Step: [401/3434], Training loss: 1.0786, Validation Acc: 40.885998780735626\n",
      "epoch 1, train batch 600\n",
      "epoch 1, train batch 800\n",
      "validation...\n",
      "epoch 1, test batch 0\n",
      "epoch 1, test batch 200\n",
      " Epoch: [2/5], Step: [801/3434], Training loss: 1.0769, Validation Acc: 41.27209916683601\n",
      "epoch 1, train batch 1000\n",
      "epoch 1, train batch 1200\n",
      "validation...\n",
      "epoch 1, test batch 0\n",
      "epoch 1, test batch 200\n",
      " Epoch: [2/5], Step: [1201/3434], Training loss: 1.0765, Validation Acc: 41.62771794350742\n",
      "epoch 1, train batch 1400\n",
      "epoch 1, train batch 1600\n",
      "validation...\n",
      "epoch 1, test batch 0\n",
      "epoch 1, test batch 200\n",
      " Epoch: [2/5], Step: [1601/3434], Training loss: 1.0764, Validation Acc: 40.662466978256454\n",
      "epoch 1, train batch 1800\n",
      "epoch 1, train batch 2000\n",
      "validation...\n",
      "epoch 1, test batch 0\n",
      "epoch 1, test batch 200\n",
      " Epoch: [2/5], Step: [2001/3434], Training loss: 1.0760, Validation Acc: 40.134119081487505\n",
      "epoch 1, train batch 2200\n",
      "epoch 1, train batch 2400\n",
      "validation...\n",
      "epoch 1, test batch 0\n",
      "epoch 1, test batch 200\n",
      " Epoch: [2/5], Step: [2401/3434], Training loss: 1.0755, Validation Acc: 40.946961999593576\n",
      "epoch 1, train batch 2600\n",
      "epoch 1, train batch 2800\n",
      "validation...\n",
      "epoch 1, test batch 0\n",
      "epoch 1, test batch 200\n",
      " Epoch: [2/5], Step: [2801/3434], Training loss: 1.0754, Validation Acc: 40.9164803901646\n",
      "epoch 1, train batch 3000\n",
      "epoch 1, train batch 3200\n",
      "validation...\n",
      "epoch 1, test batch 0\n",
      "epoch 1, test batch 200\n",
      " Epoch: [2/5], Step: [3201/3434], Training loss: 1.0753, Validation Acc: 40.38813249339565\n",
      "epoch 1, train batch 3400\n",
      "epoch 2, train batch 0\n",
      "epoch 2, train batch 200\n",
      "epoch 2, train batch 400\n",
      "validation...\n",
      "epoch 2, test batch 0\n",
      "epoch 2, test batch 200\n",
      " Epoch: [3/5], Step: [401/3434], Training loss: 1.0737, Validation Acc: 40.58118268644584\n",
      "epoch 2, train batch 600\n",
      "epoch 2, train batch 800\n",
      "validation...\n",
      "epoch 2, test batch 0\n",
      "epoch 2, test batch 200\n",
      " Epoch: [3/5], Step: [801/3434], Training loss: 1.0743, Validation Acc: 40.703109124161756\n",
      "epoch 2, train batch 1000\n",
      "epoch 2, train batch 1200\n",
      "validation...\n",
      "epoch 2, test batch 0\n",
      "epoch 2, test batch 200\n",
      " Epoch: [3/5], Step: [1201/3434], Training loss: 1.0755, Validation Acc: 40.76407234301971\n",
      "epoch 2, train batch 1400\n",
      "epoch 2, train batch 1600\n",
      "validation...\n",
      "epoch 2, test batch 0\n",
      "epoch 2, test batch 200\n",
      " Epoch: [3/5], Step: [1601/3434], Training loss: 1.0748, Validation Acc: 41.1908148750254\n",
      "epoch 2, train batch 1800\n",
      "epoch 2, train batch 2000\n",
      "validation...\n",
      "epoch 2, test batch 0\n",
      "epoch 2, test batch 200\n",
      " Epoch: [3/5], Step: [2001/3434], Training loss: 1.0745, Validation Acc: 40.002032107295264\n",
      "epoch 2, train batch 2200\n",
      "epoch 2, train batch 2400\n",
      "validation...\n",
      "epoch 2, test batch 0\n",
      "epoch 2, test batch 200\n",
      " Epoch: [3/5], Step: [2401/3434], Training loss: 1.0746, Validation Acc: 40.997764681975205\n",
      "epoch 2, train batch 2600\n",
      "epoch 2, train batch 2800\n",
      "validation...\n",
      "epoch 2, test batch 0\n",
      "epoch 2, test batch 200\n",
      " Epoch: [3/5], Step: [2801/3434], Training loss: 1.0749, Validation Acc: 40.34749034749035\n",
      "epoch 2, train batch 3000\n",
      "epoch 2, train batch 3200\n",
      "validation...\n",
      "epoch 2, test batch 0\n",
      "epoch 2, test batch 200\n",
      " Epoch: [3/5], Step: [3201/3434], Training loss: 1.0749, Validation Acc: 40.24588498272709\n",
      "epoch 2, train batch 3400\n",
      "epoch 3, train batch 0\n",
      "epoch 3, train batch 200\n",
      "epoch 3, train batch 400\n",
      "validation...\n",
      "epoch 3, test batch 0\n",
      "epoch 3, test batch 200\n",
      " Epoch: [4/5], Step: [401/3434], Training loss: 1.0755, Validation Acc: 40.65230644178013\n",
      "epoch 3, train batch 600\n",
      "epoch 3, train batch 800\n",
      "validation...\n",
      "epoch 3, test batch 0\n",
      "epoch 3, test batch 200\n",
      " Epoch: [4/5], Step: [801/3434], Training loss: 1.0740, Validation Acc: 41.414346677504575\n",
      "epoch 3, train batch 1000\n",
      "epoch 3, train batch 1200\n",
      "validation...\n",
      "epoch 3, test batch 0\n",
      "epoch 3, test batch 200\n",
      " Epoch: [4/5], Step: [1201/3434], Training loss: 1.0743, Validation Acc: 40.72343019711441\n",
      "epoch 3, train batch 1400\n",
      "epoch 3, train batch 1600\n",
      "validation...\n",
      "epoch 3, test batch 0\n",
      "epoch 3, test batch 200\n",
      " Epoch: [4/5], Step: [1601/3434], Training loss: 1.0749, Validation Acc: 40.936801463117256\n",
      "epoch 3, train batch 1800\n",
      "epoch 3, train batch 2000\n",
      "validation...\n",
      "epoch 3, test batch 0\n",
      "epoch 3, test batch 200\n",
      " Epoch: [4/5], Step: [2001/3434], Training loss: 1.0746, Validation Acc: 40.753911806543385\n",
      "epoch 3, train batch 2200\n",
      "epoch 3, train batch 2400\n",
      "validation...\n",
      "epoch 3, test batch 0\n",
      "epoch 3, test batch 200\n",
      " Epoch: [4/5], Step: [2401/3434], Training loss: 1.0745, Validation Acc: 40.82503556187767\n",
      "epoch 3, train batch 2600\n",
      "epoch 3, train batch 2800\n",
      "validation...\n",
      "epoch 3, test batch 0\n",
      "epoch 3, test batch 200\n",
      " Epoch: [4/5], Step: [2801/3434], Training loss: 1.0744, Validation Acc: 40.560861613493195\n",
      "epoch 3, train batch 3000\n",
      "epoch 3, train batch 3200\n",
      "validation...\n",
      "epoch 3, test batch 0\n",
      "epoch 3, test batch 200\n",
      " Epoch: [4/5], Step: [3201/3434], Training loss: 1.0739, Validation Acc: 41.35338345864662\n",
      "epoch 3, train batch 3400\n",
      "epoch 4, train batch 0\n",
      "epoch 4, train batch 200\n",
      "epoch 4, train batch 400\n",
      "validation...\n",
      "epoch 4, test batch 0\n",
      "epoch 4, test batch 200\n",
      " Epoch: [5/5], Step: [401/3434], Training loss: 1.0759, Validation Acc: 40.33732981101402\n",
      "epoch 4, train batch 600\n",
      "epoch 4, train batch 800\n",
      "validation...\n",
      "epoch 4, test batch 0\n",
      "epoch 4, test batch 200\n",
      " Epoch: [5/5], Step: [801/3434], Training loss: 1.0754, Validation Acc: 40.906319853688274\n",
      "epoch 4, train batch 1000\n",
      "epoch 4, train batch 1200\n",
      "validation...\n",
      "epoch 4, test batch 0\n",
      "epoch 4, test batch 200\n",
      " Epoch: [5/5], Step: [1201/3434], Training loss: 1.0750, Validation Acc: 40.235724446250764\n",
      "epoch 4, train batch 1400\n",
      "epoch 4, train batch 1600\n",
      "validation...\n",
      "epoch 4, test batch 0\n",
      "epoch 4, test batch 200\n",
      " Epoch: [5/5], Step: [1601/3434], Training loss: 1.0742, Validation Acc: 41.30258077626499\n",
      "epoch 4, train batch 1800\n",
      "epoch 4, train batch 2000\n",
      "validation...\n",
      "epoch 4, test batch 0\n",
      "epoch 4, test batch 200\n",
      " Epoch: [5/5], Step: [2001/3434], Training loss: 1.0744, Validation Acc: 40.936801463117256\n",
      "epoch 4, train batch 2200\n",
      "epoch 4, train batch 2400\n",
      "validation...\n",
      "epoch 4, test batch 0\n",
      "epoch 4, test batch 200\n",
      " Epoch: [5/5], Step: [2401/3434], Training loss: 1.0745, Validation Acc: 40.81487502540134\n",
      "epoch 4, train batch 2600\n",
      "epoch 4, train batch 2800\n",
      "validation...\n",
      "epoch 4, test batch 0\n",
      "epoch 4, test batch 200\n",
      " Epoch: [5/5], Step: [2801/3434], Training loss: 1.0741, Validation Acc: 40.8758382442593\n",
      "epoch 4, train batch 3000\n",
      "epoch 4, train batch 3200\n",
      "validation...\n",
      "epoch 4, test batch 0\n",
      "epoch 4, test batch 200\n",
      " Epoch: [5/5], Step: [3201/3434], Training loss: 1.0739, Validation Acc: 41.10953058321479\n",
      "epoch 4, train batch 3400\n"
     ]
    },
    {
     "data": {
      "image/png": "[encoded data removed]",
      "text/plain": [
       "<Figure size 576x396 with 1 Axes>"
      ]
     },
     "metadata": {
      "tags": []
     },
     "output_type": "display_data"
    },
    {
     "name": "stdout",
     "output_type": "stream",
     "text": [
      "best_acc = 41.62771794350742\n"
     ]
    }
   ],
   "source": [
    "#train the model\n",
    "from tqdm import tnrange, tqdm_notebook, tqdm\n",
    "num_epochs = 5\n",
    "train_losses = []\n",
    "val_losses = []\n",
    "val_acc, val_loss = None, None\n",
    "val_accs = []\n",
    "if not os.path.exists('saved_model'):\n",
    "    os.makedirs('saved_model')\n",
    "save_model = 1\n",
    "best_acc = 0\n",
    "for epoch in range(num_epochs):\n",
    "    losses = AverageMeter()\n",
    "    for i, (x1, x2, lengths1, lengths2, labels) in enumerate(train_loader):\n",
    "        if i % 200 == 0:\n",
    "            print(f'epoch {epoch}, train batch {i}')\n",
    "        x1, x2, labels = x1.to(device), x2.to(device), labels.to(device)\n",
    "        model.train()\n",
    "        optimizer.zero_grad()\n",
    "        # Forward pass\n",
    "        if str(device).startswith('cuda'):\n",
    "            x1, x2 = x1.cuda(), x2.cuda()\n",
    "        outputs = model(x1, x2, lengths1, lengths2)\n",
    "        loss = criterion(outputs, labels)\n",
    "        losses.update(loss, x1.size(0))\n",
    "        # Backward and optimize\n",
    "        loss.backward()\n",
    "        optimizer.step()\n",
    "        # test every 100 iterations\n",
    "        if i > 0 and i % 400 == 0:\n",
    "            # test\n",
    "            print('validation...')\n",
    "            val_acc, val_loss = test_model(val_loader, model, criterion)\n",
    "            print(' Epoch: [{}/{}], Step: [{}/{}], Training loss: {loss.avg:.4f}, Validation Acc: {}'.format(\n",
    "                       epoch+1, num_epochs, i+1, len(train_loader), val_acc, loss = losses))\n",
    "            if val_acc > best_acc:\n",
    "                best_acc = val_acc\n",
    "            if save_model > 0:    \n",
    "                torch.save(model, f'./saved_model/snli_epoch_{epoch}_model.pth')\n",
    "\n",
    "    train_losses.append(losses.avg) \n",
    "    if val_loss is not None:\n",
    "        val_losses.append(val_loss)\n",
    "    if val_acc is not None:\n",
    "        val_accs.append(val_acc)\n",
    "        \n",
    "args_str = 'model = ' + str('model') + 'hidden size = ' + str(200)\n",
    "train_plot(train_losses,val_losses, val_accs, fname = args_str)\n",
    "print('best_acc = ' + str(best_acc))"
   ]
  },
  {
   "cell_type": "code",
   "execution_count": 22,
   "metadata": {
    "colab": {
     "base_uri": "https://localhost:8080/",
     "height": 315
    },
    "colab_type": "code",
    "id": "EW6drvwQYBkE",
    "outputId": "53154ea4-ab56-418f-b9e6-e140d2c55bb2"
   },
   "outputs": [
    {
     "name": "stdout",
     "output_type": "stream",
     "text": [
      "REJECTED 1: during calf roping a cowboy calls off his horse.,cowboy falling off horse.\n",
      "REJECTED 2: a ford car is making a right turn as 3 males are walking across the street behind the car.,a car proceeding straight as pedestrians walked across the road in back of it.\n",
      "REJECTED 3: an old woman watches a man look down at some balls on the ground.,a gray haired person is looking at a gentleman.\n",
      "REJECTED 4: a bird is flapping its wings on the water.,the bird is floating on the water.\n",
      "REJECTED 5: young woman is putting her clothes in the dryer portion of a double stacked washer and dryer unit.,a tall person drying clothes\n",
      "REJECTED 6: a woman, standing behind a girl, helping the girl with an experiment.,a woman is sitting next to a girl while they finish an experiment.\n",
      "REJECTED 7: two street people and a dog sitting on the ground and one is holding an \"out of luck\" sign.,the people are swimming in the red sea\n",
      "REJECTED 8: violin soloists take the stage during the orchestra's opening show at the theater.,people are playing a violin solo for a crowd.\n",
      "REJECTED 9: a man is painting a picture outside behind a crowd.,a man is punching a picture to show great anger and rage outside to people.\n",
      "REJECTED 10: elderly woman in blue apron balances a basket on her head on a sidewalk while talking to a woman dressed in black.,the elderly woman is knitting a scarf for the woman she is talking to.\n",
      "read 3001 lines\n",
      "switching model to cuda mode...\n",
      "test\n",
      "epoch 4, test batch 0\n",
      "Test Acc: 41.692150866462796\n"
     ]
    }
   ],
   "source": [
    "test_x1, test_x2, test_y, _, _  = read_data('test.txt', count = count, do_count = True)\n",
    "\n",
    "\n",
    "test_x1_indices = token2index_dataset(test_x1, token2id)\n",
    "test_x2_indices = token2index_dataset(test_x2, token2id)\n",
    "test_dataset = SNLIDataset(test_x1_indices, test_x2_indices, test_y)\n",
    "test_loader = torch.utils.data.DataLoader(dataset=test_dataset, \n",
    "                                           batch_size=BATCH_SIZE,\n",
    "                                           collate_fn=SNLI_collate_func,\n",
    "                                           shuffle=True)\n",
    "\n",
    "criterion = nn.NLLLoss()\n",
    "run_model = model#torch.load('./saved_model/snli_epoch_4_sgd_model.pth', map_location='cpu')\n",
    "\n",
    "if str(device).startswith('cuda'):\n",
    "    print('switching model to cuda mode...')\n",
    "    run_model.cuda()\n",
    "print('test')\n",
    "test_acc, test_loss = test_model(test_loader, run_model, criterion)\n",
    "print('Test Acc: {}'.format(test_acc))"
   ]
  },
  {
   "cell_type": "code",
   "execution_count": 18,
   "metadata": {
    "colab": {
     "base_uri": "https://localhost:8080/",
     "height": 34
    },
    "colab_type": "code",
    "id": "PeTDn2yi8tNO",
    "outputId": "f5d617da-900b-4870-efb9-afae96f2685f"
   },
   "outputs": [
    {
     "data": {
      "text/plain": [
       "41.963982330954806"
      ]
     },
     "execution_count": 18,
     "metadata": {
      "tags": []
     },
     "output_type": "execute_result"
    }
   ],
   "source": [
    "test_acc"
   ]
  },
  {
   "cell_type": "code",
   "execution_count": 0,
   "metadata": {
    "colab": {},
    "colab_type": "code",
    "id": "5zXgF-GHYBkJ"
   },
   "outputs": [],
   "source": [
    "# output the 3 correct and 3 wrong examples\n",
    "# labels are: {'contradiction': 0, 'entailment': 1, 'neutral': 2}\n",
    "correct = 0\n",
    "total = 0\n",
    "model.eval()\n",
    "count_right, count_wrong = 0,0\n",
    "rights1 = []\n",
    "wrongs1 = []\n",
    "rights2 = []\n",
    "wrongs2 = []\n",
    "right_label = []\n",
    "wrong_label_pred = []\n",
    "wrong_label_true = []\n",
    "\n",
    "for x1, x2, lengths1, lengths2, labels in val_loader:\n",
    "    x1 = x1.to(device)\n",
    "    x2 = x2.to(device)\n",
    "    labels = labels.to(device)\n",
    "    outputs = run_model(x1, x2, lengths1, lengths2)\n",
    "    predicted = outputs.min(1, keepdim=True)[1]\n",
    "    i = 0\n",
    "    while (count_right < 3 or count_wrong<4) and i<len(predicted):\n",
    "        pred = predicted[i]\n",
    "        \n",
    "        true = labels[i]\n",
    "        if pred[0] == true:\n",
    "            if count_right<3:\n",
    "                if true not in right_label:\n",
    "                    rights1.append(x1[i,:].cpu().data.numpy())\n",
    "                    rights2.append(x2[i,:].cpu().data.numpy())\n",
    "                    right_label.append(true)\n",
    "                    count_right += 1\n",
    "        else:\n",
    "            if true not in wrong_label_true:\n",
    "                wrongs1.append(x1[i,:].cpu().data.numpy())\n",
    "                wrongs2.append(x2[i,:].cpu().data.numpy())\n",
    "                wrong_label_pred.append(pred)\n",
    "                wrong_label_true.append(true)\n",
    "                count_wrong += 1\n",
    "        i += 1\n",
    "    break"
   ]
  },
  {
   "cell_type": "code",
   "execution_count": 20,
   "metadata": {
    "colab": {
     "base_uri": "https://localhost:8080/",
     "height": 125
    },
    "colab_type": "code",
    "id": "VnApJvJsYBkL",
    "outputId": "12613a0b-570e-473f-b9d1-c5a06c118e9c"
   },
   "outputs": [
    {
     "name": "stdout",
     "output_type": "stream",
     "text": [
      "<bos> a woman walking a dog on a leash at the beach, trailing behind as a pug follows another unseen woman. <eos>\n",
      "<bos> a large woman walks a dog <eos>\n",
      "label: 2\n",
      "**************\n"
     ]
    }
   ],
   "source": [
    "for sent1, sent2, label in zip(rights1, rights2, right_label):\n",
    "    output = []\n",
    "    for index in sent1:\n",
    "        if index != hp.PAD_IDX:\n",
    "            output.append(id2token[index])\n",
    "    print((' ').join(output))\n",
    "    output = []\n",
    "    for index in sent2:\n",
    "        if index != hp.PAD_IDX:\n",
    "            output.append(id2token[index])\n",
    "    print((' ').join(output))\n",
    "    print(f'label: {label.item()}')\n",
    "    print('**************')"
   ]
  },
  {
   "cell_type": "code",
   "execution_count": 21,
   "metadata": {
    "colab": {
     "base_uri": "https://localhost:8080/",
     "height": 221
    },
    "colab_type": "code",
    "id": "h_5DOaDeYBkQ",
    "outputId": "2a908944-ba21-4639-fae1-35a7e8b629cb"
   },
   "outputs": [
    {
     "name": "stdout",
     "output_type": "stream",
     "text": [
      "<bos> two young children on a skateboard going across a sidewalk <eos>\n",
      "<bos> two young children riding on a bike. <eos>\n",
      "pred label: 2, true label: 0\n",
      "**************\n",
      "<bos> a skier is jumping in the air over a <unk> near a mountain range. <eos>\n",
      "<bos> a skier performs a competitive technical jump during a competition. <eos>\n",
      "pred label: 1, true label: 2\n",
      "**************\n",
      "<bos> children and adults swim in large pool with red staircase. <eos>\n",
      "<bos> a group of people are swimming. <eos>\n",
      "pred label: 2, true label: 1\n",
      "**************\n"
     ]
    }
   ],
   "source": [
    "for sent1, sent2, pred, true in zip(wrongs1, wrongs2, wrong_label_pred, wrong_label_true):\n",
    "    output = []\n",
    "    for index in sent1:\n",
    "        if index != hp.PAD_IDX:\n",
    "            output.append(id2token[index])\n",
    "    print((' ').join(output))\n",
    "    output = []\n",
    "    for index in sent2:\n",
    "        if index != hp.PAD_IDX:\n",
    "            output.append(id2token[index])\n",
    "    print((' ').join(output))\n",
    "    print(f'pred label: {pred.item()}, true label: {true.item()}')\n",
    "    print('**************')"
   ]
  }
 ],
 "metadata": {
  "accelerator": "GPU",
  "colab": {
   "collapsed_sections": [],
   "name": "SNLI predict model-2-drive.ipynb",
   "provenance": [],
   "version": "0.3.2"
  },
  "kernelspec": {
   "display_name": "Python 3",
   "language": "python",
   "name": "python3"
  },
  "language_info": {
   "codemirror_mode": {
    "name": "ipython",
    "version": 3
   },
   "file_extension": ".py",
   "mimetype": "text/x-python",
   "name": "python",
   "nbconvert_exporter": "python",
   "pygments_lexer": "ipython3",
   "version": "3.6.7"
  }
 },
 "nbformat": 4,
 "nbformat_minor": 1
}
